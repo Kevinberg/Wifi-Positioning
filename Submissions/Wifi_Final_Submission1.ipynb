{
 "cells": [
  {
   "cell_type": "code",
   "execution_count": 50,
   "metadata": {},
   "outputs": [],
   "source": [
    "#Submission1:\n",
    "#Predicting Floor, Latitude, Longitude on TRAIN"
   ]
  },
  {
   "cell_type": "code",
   "execution_count": 51,
   "metadata": {},
   "outputs": [],
   "source": [
    "#Import Libraries\n",
    "import pandas as pd\n",
    "import matplotlib.pyplot as plt\n",
    "import plotly.express as px\n",
    "import numpy as np\n",
    "import math\n",
    "import scipy\n",
    "\n",
    "#Import Models\n",
    "import random\n",
    "from sklearn.ensemble import RandomForestRegressor\n",
    "from sklearn.ensemble import RandomForestClassifier\n",
    "from sklearn.model_selection import cross_val_score\n",
    "from sklearn.svm import SVR\n",
    "from sklearn.linear_model import LogisticRegression\n",
    "from sklearn.neighbors import KNeighborsClassifier\n",
    "from sklearn.neighbors import KNeighborsRegressor\n",
    "\n",
    "#Model Metrics\n",
    "from sklearn.metrics import mean_squared_error\n",
    "from sklearn.metrics import r2_score\n",
    "from sklearn.metrics import mean_absolute_error\n",
    "from sklearn.metrics import cohen_kappa_score\n",
    "from sklearn.metrics import accuracy_score\n",
    "from sklearn.metrics import classification_report, confusion_matrix\n",
    "\n",
    "#Cross Validation\n",
    "from sklearn.model_selection import train_test_split\n",
    "from math import sqrt"
   ]
  },
  {
   "cell_type": "code",
   "execution_count": 52,
   "metadata": {},
   "outputs": [
    {
     "data": {
      "text/plain": [
       "(5179, 529)"
      ]
     },
     "execution_count": 52,
     "metadata": {},
     "output_type": "execute_result"
    }
   ],
   "source": [
    "#Import Datasets\n",
    "wifi = pd.read_csv(\"./trainingData.csv\")\n",
    "wifi_test = pd.read_csv(\"./testData.csv\")\n",
    "\n",
    "wifi_test.shape"
   ]
  },
  {
   "cell_type": "code",
   "execution_count": 53,
   "metadata": {},
   "outputs": [],
   "source": [
    "#### DELETE COLUMNS #####\n",
    "\n",
    "del wifi['RELATIVEPOSITION']\n",
    "del wifi['USERID']\n",
    "del wifi['TIMESTAMP']\n",
    "del wifi_test['RELATIVEPOSITION']\n",
    "del wifi_test['USERID']\n",
    "del wifi_test['TIMESTAMP']\n",
    "\n",
    "#### DUPLICATED ROWS #####\n",
    "\n",
    "wifi = wifi.drop_duplicates(subset=None, keep='first',inplace=False) \n",
    "\n",
    "\n",
    "#### STRANGE AND LOW SIGNALS #####\n",
    "\n",
    "wifi.iloc[:, 0:520] = wifi.iloc[:, 0:520].replace(np.r_[1:9], 10) \n",
    "wifi_test.iloc[:, 0:520] = wifi_test.iloc[:, 0:520].replace(np.r_[1:9], 10) \n",
    "#Turn useless signals to a single useless number (10)\n",
    "\n",
    "wifi.iloc[:, 0:520] = wifi.iloc[:, 0:520].replace(np.r_[71:106], 70)\n",
    "wifi_test.iloc[:, 0:520] = wifi_test.iloc[:, 0:520].replace(np.r_[71:106], 70)\n",
    "#Reduce perfect signals above 70 to 70.\n"
   ]
  },
  {
   "cell_type": "code",
   "execution_count": 54,
   "metadata": {},
   "outputs": [
    {
     "name": "stderr",
     "output_type": "stream",
     "text": [
      "/home/s/anaconda3/lib/python3.7/site-packages/sklearn/linear_model/logistic.py:947: ConvergenceWarning:\n",
      "\n",
      "lbfgs failed to converge. Increase the number of iterations.\n",
      "\n"
     ]
    }
   ],
   "source": [
    "#BUILDING\n",
    "x_train = wifi.iloc[:,0:520]\n",
    "y_train = wifi.iloc[:,np.r_[520:524]]\n",
    "x_test = wifi_test.iloc[:,0:520]\n",
    "y_test = wifi_test.iloc[:,np.r_[520:524]]\n",
    "\n",
    "LR_B = LogisticRegression(\n",
    "    random_state=0, solver='lbfgs', multi_class='multinomial').fit(x_train, y_train['BUILDINGID'])\n",
    "\n",
    "#Predictions\n",
    "LRpredictions_building = LR_B.predict(x_test)"
   ]
  },
  {
   "cell_type": "code",
   "execution_count": 55,
   "metadata": {},
   "outputs": [
    {
     "name": "stderr",
     "output_type": "stream",
     "text": [
      "/home/s/anaconda3/lib/python3.7/site-packages/ipykernel_launcher.py:3: SettingWithCopyWarning:\n",
      "\n",
      "\n",
      "A value is trying to be set on a copy of a slice from a DataFrame.\n",
      "Try using .loc[row_indexer,col_indexer] = value instead\n",
      "\n",
      "See the caveats in the documentation: http://pandas.pydata.org/pandas-docs/stable/indexing.html#indexing-view-versus-copy\n",
      "\n"
     ]
    }
   ],
   "source": [
    "#FLOOR\n",
    "x_train['BUILDINGID'] = y_train['BUILDINGID']\n",
    "x_test['BUILDINGID'] = LRpredictions_building\n",
    "\n",
    "KNN_F = KNeighborsClassifier(n_neighbors=1).fit(x_train, y_train['FLOOR'])\n",
    "\n",
    "#Predictions\n",
    "KNNpredictions_floor = KNN_F.predict(x_test)"
   ]
  },
  {
   "cell_type": "code",
   "execution_count": 56,
   "metadata": {},
   "outputs": [
    {
     "name": "stderr",
     "output_type": "stream",
     "text": [
      "/home/s/anaconda3/lib/python3.7/site-packages/ipykernel_launcher.py:3: SettingWithCopyWarning:\n",
      "\n",
      "\n",
      "A value is trying to be set on a copy of a slice from a DataFrame.\n",
      "Try using .loc[row_indexer,col_indexer] = value instead\n",
      "\n",
      "See the caveats in the documentation: http://pandas.pydata.org/pandas-docs/stable/indexing.html#indexing-view-versus-copy\n",
      "\n"
     ]
    }
   ],
   "source": [
    "#LATITUDE\n",
    "x_train['FLOOR'] = y_train['FLOOR']\n",
    "x_test['FLOOR'] = KNNpredictions_floor\n",
    "\n",
    "KNN_LAT = KNeighborsRegressor(n_neighbors=4).fit(x_train, y_train['LATITUDE'])\n",
    "\n",
    "#Predictions\n",
    "KNNpredictions_latitude = KNN_LAT.predict(x_test)"
   ]
  },
  {
   "cell_type": "code",
   "execution_count": 57,
   "metadata": {},
   "outputs": [
    {
     "name": "stderr",
     "output_type": "stream",
     "text": [
      "/home/s/anaconda3/lib/python3.7/site-packages/ipykernel_launcher.py:3: SettingWithCopyWarning:\n",
      "\n",
      "\n",
      "A value is trying to be set on a copy of a slice from a DataFrame.\n",
      "Try using .loc[row_indexer,col_indexer] = value instead\n",
      "\n",
      "See the caveats in the documentation: http://pandas.pydata.org/pandas-docs/stable/indexing.html#indexing-view-versus-copy\n",
      "\n"
     ]
    }
   ],
   "source": [
    "#LONGITUDE\n",
    "x_train['LATITUDE'] = y_train['LATITUDE']\n",
    "x_test['LATITUDE'] = KNNpredictions_latitude\n",
    "\n",
    "KNN_LONG = KNeighborsRegressor(n_neighbors=1).fit(x_train,y_train['LONGITUDE'])\n",
    "\n",
    "#Predictions\n",
    "KNNpredictions_longitude = KNN_LONG.predict(x_test)"
   ]
  },
  {
   "cell_type": "code",
   "execution_count": 58,
   "metadata": {},
   "outputs": [
    {
     "data": {
      "text/plain": [
       "(5179, 3)"
      ]
     },
     "execution_count": 58,
     "metadata": {},
     "output_type": "execute_result"
    }
   ],
   "source": [
    "KNNpredictions_latitude = pd.DataFrame(KNNpredictions_latitude)\n",
    "KNNpredictions_longitude = pd.DataFrame(KNNpredictions_longitude)\n",
    "KNNpredictions_floor = pd.DataFrame(KNNpredictions_floor)\n",
    "\n",
    "submission1 = pd.concat([KNNpredictions_latitude,KNNpredictions_longitude,KNNpredictions_floor],axis=1)\n",
    "submission1.shape"
   ]
  },
  {
   "cell_type": "code",
   "execution_count": 59,
   "metadata": {},
   "outputs": [],
   "source": [
    "submission1.columns = [\"LATITUDE\",\"LONGITUDE\",\"FLOOR\"]\n",
    "submission1.to_csv(\"./submission1\",index = False)"
   ]
  },
  {
   "cell_type": "code",
   "execution_count": null,
   "metadata": {},
   "outputs": [],
   "source": []
  }
 ],
 "metadata": {
  "kernelspec": {
   "display_name": "Python 3",
   "language": "python",
   "name": "python3"
  },
  "language_info": {
   "codemirror_mode": {
    "name": "ipython",
    "version": 3
   },
   "file_extension": ".py",
   "mimetype": "text/x-python",
   "name": "python",
   "nbconvert_exporter": "python",
   "pygments_lexer": "ipython3",
   "version": "3.7.3"
  }
 },
 "nbformat": 4,
 "nbformat_minor": 2
}
