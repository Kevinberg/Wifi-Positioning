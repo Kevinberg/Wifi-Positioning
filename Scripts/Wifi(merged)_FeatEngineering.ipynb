{
 "cells": [
  {
   "cell_type": "markdown",
   "metadata": {},
   "source": [
    "# Wifi Localization Problem Part2\n",
    "\n",
    "## Table of Contents:\n",
    "* [2. Feature Engineering](#Engineering)\n",
    "    * [2.1. Removing Columns](#Substract)\n",
    "    * [2.2. Removing Duplicates](#Duplicates)\n",
    "    * [2.3. Dealing with Problematic Phones](#TooGood)\n",
    "    * [2.4. Dealing with Problematic Signals](#TooGood)\n",
    "    * [2.5. Adding Columns](#Add)"
   ]
  },
  {
   "cell_type": "code",
   "execution_count": 25,
   "metadata": {},
   "outputs": [],
   "source": [
    "#Load and import workspace\n",
    "import dill\n",
    "#dill.dump_session('notebook_session.db')\n",
    "#dill.load_session('notebook_session.db')"
   ]
  },
  {
   "cell_type": "code",
   "execution_count": 26,
   "metadata": {},
   "outputs": [],
   "source": [
    "#Import Libraries\n",
    "import pandas as pd\n",
    "import matplotlib.pyplot as plt\n",
    "import plotly.express as px\n",
    "import numpy as np\n",
    "import math\n",
    "import scipy\n",
    "\n",
    "#Import Models\n",
    "import random\n",
    "from sklearn.ensemble import RandomForestRegressor\n",
    "from sklearn.ensemble import RandomForestClassifier\n",
    "from sklearn.model_selection import cross_val_score\n",
    "from sklearn.svm import SVR\n",
    "from sklearn import linear_model\n",
    "\n",
    "#Model Metrics\n",
    "from sklearn.metrics import mean_squared_error\n",
    "from sklearn.metrics import r2_score\n",
    "from sklearn.metrics import mean_absolute_error\n",
    "from sklearn.metrics import cohen_kappa_score\n",
    "from sklearn.metrics import accuracy_score\n",
    "from sklearn.metrics import classification_report, confusion_matrix\n",
    "\n",
    "#Cross Validation\n",
    "from sklearn.model_selection import train_test_split\n",
    "from math import sqrt"
   ]
  },
  {
   "cell_type": "code",
   "execution_count": 27,
   "metadata": {},
   "outputs": [],
   "source": [
    "#Import Datasets\n",
    "wifi = pd.read_csv('trainingData.csv')\n",
    "wifi_val = pd.read_csv('validationData.csv')\n",
    "wifi_trainval = pd.concat([wifi,wifi_val])"
   ]
  },
  {
   "cell_type": "markdown",
   "metadata": {},
   "source": [
    "# <a class=\"anchor\" id=\"Preprocessing\"> 0. Previous Preprocessing </a>"
   ]
  },
  {
   "cell_type": "code",
   "execution_count": 28,
   "metadata": {},
   "outputs": [
    {
     "data": {
      "image/png": "[encoded data removed]",
      "text/plain": [
       "<Figure size 432x288 with 1 Axes>"
      ]
     },
     "metadata": {
      "needs_background": "light"
     },
     "output_type": "display_data"
    }
   ],
   "source": [
    "#### SCALE CHANGE ####\n",
    "\n",
    "wifi_trainval.iloc[:, 0:520] = np.where(wifi_trainval.iloc[:, 0:520] <= 0,\n",
    "       wifi_trainval.iloc[:, 0:520] + 105,\n",
    "       wifi_trainval.iloc[:, 0:520] - 100)\n",
    "\n",
    "\n",
    "#### ORIENTATION CHANGE #####\n",
    "\n",
    "#TRAIN\n",
    "angle = np.arctan(wifi[\"LATITUDE\"][0]/wifi[\"LONGITUDE\"][0])\n",
    "angle = angle/math.pi\n",
    "LONGITUDE = wifi[\"LONGITUDE\"]*np.cos(angle) + wifi[\"LATITUDE\"]*np.sin(angle)\n",
    "LATITUDE = wifi[\"LATITUDE\"]*np.cos(angle) - wifi[\"LONGITUDE\"]*np.sin(angle)\n",
    "plt.scatter(LONGITUDE,LATITUDE)\n",
    "wifi[\"LONGITUDE\"] = LONGITUDE\n",
    "wifi[\"LATITUDE\"] = LATITUDE\n",
    "#MERGED\n",
    "VLONGITUDE = wifi_trainval[\"LONGITUDE\"]*np.cos(angle) +wifi_trainval[\"LATITUDE\"]*np.sin(angle)\n",
    "VLATITUDE = wifi_trainval[\"LATITUDE\"]*np.cos(angle) - wifi_trainval[\"LONGITUDE\"]*np.sin(angle)\n",
    "wifi_trainval[\"LONGITUDE\"] = VLONGITUDE\n",
    "wifi_trainval[\"LATITUDE\"] = VLATITUDE\n",
    "plt.scatter(VLONGITUDE,VLATITUDE)\n",
    "plt.show()"
   ]
  },
  {
   "cell_type": "markdown",
   "metadata": {},
   "source": [
    "# <a class=\"anchor\" id=\"Engineering\"> 2. Feature Engineering </a>"
   ]
  },
  {
   "cell_type": "markdown",
   "metadata": {},
   "source": [
    "## <a class=\"anchor\" id=\"Substract\"> 2.1. Removing Columns </a>"
   ]
  },
  {
   "cell_type": "code",
   "execution_count": 29,
   "metadata": {},
   "outputs": [
    {
     "name": "stdout",
     "output_type": "stream",
     "text": [
      "11017\n"
     ]
    }
   ],
   "source": [
    "#Relative Postion, UserID and Timestampprint(wifi_trainval['USERID'].nunique())\n",
    "#Note: only the train has values for Relative Position\n",
    "print(wifi_trainval['TIMESTAMP'].nunique())        #11017 different trials, so half the dataset is repeated\n",
    "\n",
    "del wifi_trainval['RELATIVEPOSITION']\n",
    "del wifi_trainval['USERID']\n",
    "del wifi_trainval['TIMESTAMP']"
   ]
  },
  {
   "cell_type": "markdown",
   "metadata": {},
   "source": [
    "## <a class=\"anchor\" id=\"Duplicates\"> 2.2. Removing Duplicates </a>"
   ]
  },
  {
   "cell_type": "code",
   "execution_count": 30,
   "metadata": {},
   "outputs": [],
   "source": [
    "#Duplicated Rows\n",
    "wifi_trainval = wifi_trainval.drop_duplicates(subset=None, keep='first',inplace=False) \n",
    "#754 repeated rows removed (all from train)"
   ]
  },
  {
   "cell_type": "markdown",
   "metadata": {},
   "source": [
    "## <a class=\"anchor\" id=\"TooGood\"> 2.3. Dealing with Problematic Phones </a>"
   ]
  },
  {
   "cell_type": "markdown",
   "metadata": {},
   "source": [
    "Note: this is a bit of a gamble, since I'm removing phones that may appear again in the blind test set. <br>\n",
    "However, I'm betting on the fact that better phones have better signals, and this increases exponentially as time goes by. And the blind set is taken later in the future (about 2 years), so chances are phones are better."
   ]
  },
  {
   "cell_type": "code",
   "execution_count": 31,
   "metadata": {},
   "outputs": [
    {
     "data": {
      "text/plain": [
       "(11155, 526)"
      ]
     },
     "execution_count": 31,
     "metadata": {},
     "output_type": "execute_result"
    }
   ],
   "source": [
    "Phones = [5,7,8,11,12,14,17,19,21]\n",
    "wifi_trainval = wifi_trainval[~wifi_trainval.PHONEID.isin(Phones)]\n",
    "\n",
    "wifi_trainval.shape"
   ]
  },
  {
   "cell_type": "markdown",
   "metadata": {},
   "source": [
    "## <a class=\"anchor\" id=\"TooGood\"> 2.4. Dealing with Problematic Signals </a>"
   ]
  },
  {
   "cell_type": "code",
   "execution_count": 32,
   "metadata": {},
   "outputs": [
    {
     "data": {
      "image/png": "[encoded data removed]",
      "text/plain": [
       "<Figure size 432x288 with 1 Axes>"
      ]
     },
     "metadata": {
      "needs_background": "light"
     },
     "output_type": "display_data"
    }
   ],
   "source": [
    "#Removing signals that are above 70 (because, in real life, no signal is that high)\n",
    "wifi_trainval.iloc[:, 0:520] = wifi_trainval.iloc[:, 0:520].replace(np.r_[1:9], 10) #Turn useless signals to a single useless number (10)\n",
    "wifi_trainval.iloc[:, 0:520] = wifi_trainval.iloc[:, 0:520].replace(np.r_[71:106], 70) #Reduce perfect signals above 70 to 70.\n",
    "\n",
    "#WAPs now look like this:\n",
    "WAPs3 = wifi_trainval.filter(like=\"WAP\")\n",
    "WAPsmelted3 = pd.melt(WAPs3)\n",
    "WAPSmelted3w0 = WAPsmelted3.loc[(WAPsmelted3.iloc[:,1] != 0)]\n",
    "plt.hist(WAPSmelted3w0['value'], bins =100);\n",
    "\n",
    "#BUT I DON'T UNDERSTAND WHY THERE ARE GAPS NOW"
   ]
  },
  {
   "cell_type": "markdown",
   "metadata": {},
   "source": [
    "## <a class=\"anchor\" id=\"Adding\"> 2.5. Adding Columns </a>"
   ]
  },
  {
   "cell_type": "code",
   "execution_count": 33,
   "metadata": {},
   "outputs": [],
   "source": [
    "#New column with best WAP signal of each row\n",
    "maxWAPvalue = wifi_trainval.iloc[:,0:520].max(axis=1)"
   ]
  }
 ],
 "metadata": {
  "kernelspec": {
   "display_name": "Python 3",
   "language": "python",
   "name": "python3"
  },
  "language_info": {
   "codemirror_mode": {
    "name": "ipython",
    "version": 3
   },
   "file_extension": ".py",
   "mimetype": "text/x-python",
   "name": "python",
   "nbconvert_exporter": "python",
   "pygments_lexer": "ipython3",
   "version": "3.7.3"
  }
 },
 "nbformat": 4,
 "nbformat_minor": 2
}
