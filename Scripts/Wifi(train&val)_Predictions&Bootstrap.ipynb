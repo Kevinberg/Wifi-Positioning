{
 "cells": [
  {
   "cell_type": "markdown",
   "metadata": {},
   "source": [
    "# Wifi Localization Problem Part3.2\n",
    "\n",
    "* [0. Previous Preprocessing](#Preprocessing)\n",
    "* [3. Predictions](#Predictions)\n",
    " * [3.1. Cascading Predictions](#Cascade)\n",
    "     * [3.1.1. BuildingID](#BuildingID)\n",
    "     * [3.1.2. Floor](#Floor)\n",
    "     * [3.1.3. Latitude](#Latitude)\n",
    "     * [3.1.4. Longitude](#Longitude)"
   ]
  },
  {
   "cell_type": "code",
   "execution_count": 1,
   "metadata": {},
   "outputs": [],
   "source": [
    "#Load and import workspace\n",
    "import dill\n",
    "#dill.dump_session('notebook_session.db')\n",
    "#dill.load_session('notebook_session.db')"
   ]
  },
  {
   "cell_type": "code",
   "execution_count": 2,
   "metadata": {},
   "outputs": [],
   "source": [
    "#Import Libraries\n",
    "import pandas as pd\n",
    "import matplotlib.pyplot as plt\n",
    "import plotly.express as px\n",
    "import numpy as np\n",
    "import statistics as st\n",
    "import math\n",
    "import scipy\n",
    "\n",
    "#Import Models\n",
    "import random\n",
    "from sklearn.ensemble import RandomForestRegressor\n",
    "from sklearn.ensemble import RandomForestClassifier\n",
    "from sklearn.model_selection import cross_val_score\n",
    "from sklearn.model_selection import GridSearchCV\n",
    "from sklearn.svm import SVR\n",
    "from sklearn.linear_model import LogisticRegression\n",
    "from sklearn.neighbors import KNeighborsClassifier\n",
    "from sklearn.neighbors import KNeighborsRegressor\n",
    "from sklearn.utils import resample\n",
    "\n",
    "#Model Metrics\n",
    "from sklearn.metrics import mean_squared_error\n",
    "from sklearn.metrics import r2_score\n",
    "from sklearn.metrics import mean_absolute_error\n",
    "from sklearn.metrics import cohen_kappa_score\n",
    "from sklearn.metrics import accuracy_score\n",
    "from sklearn.metrics import classification_report, confusion_matrix\n",
    "\n",
    "#Cross Validation\n",
    "from sklearn.model_selection import train_test_split\n",
    "from math import sqrt"
   ]
  },
  {
   "cell_type": "code",
   "execution_count": 3,
   "metadata": {},
   "outputs": [],
   "source": [
    "#Import Datasets\n",
    "wifi = pd.read_csv(\"./trainingData.csv\") #the '.' is where you have the jupyter file\n",
    "wifi_val = pd.read_csv(\"./validationData.csv\")"
   ]
  },
  {
   "cell_type": "markdown",
   "metadata": {},
   "source": [
    "# <a class=\"anchor\" id=\"Preprocessing\"> 0. Previous Preprocessing and Feat. Engineering </a>"
   ]
  },
  {
   "cell_type": "code",
   "execution_count": 4,
   "metadata": {},
   "outputs": [
    {
     "data": {
      "image/png": "[encoded data removed]",
      "text/plain": [
       "<Figure size 432x288 with 1 Axes>"
      ]
     },
     "metadata": {
      "needs_background": "light"
     },
     "output_type": "display_data"
    }
   ],
   "source": [
    "#### SCALE CHANGE ####\n",
    "\n",
    "#Change scale of WAPs of TRAIN\n",
    "wifi.iloc[:, 0:520] = np.where(wifi.iloc[:, 0:520] <= 0,\n",
    "       wifi.iloc[:, 0:520] + 105,\n",
    "       wifi.iloc[:, 0:520] - 100)\n",
    "\n",
    "#Change scale of WAPs of VAL\n",
    "wifi_val.iloc[:, 0:520] = np.where(\n",
    "        wifi_val.iloc[:, 0:520] <= 0,  #0 or lower signals (to ignore 100s)\n",
    "        wifi_val.iloc[:, 0:520] + 105, \n",
    "        wifi_val.iloc[:, 0:520] - 100)\n",
    "\n",
    "\n",
    "#### ORIENTATION CHANGE #####\n",
    "\n",
    "#TRAIN\n",
    "angle = np.arctan(wifi[\"LATITUDE\"][0]/wifi[\"LONGITUDE\"][0])\n",
    "angle = angle/math.pi\n",
    "LONGITUDE = wifi[\"LONGITUDE\"]*np.cos(angle) + wifi[\"LATITUDE\"]*np.sin(angle)\n",
    "LATITUDE = wifi[\"LATITUDE\"]*np.cos(angle) - wifi[\"LONGITUDE\"]*np.sin(angle)\n",
    "plt.scatter(LONGITUDE,LATITUDE)\n",
    "wifi[\"LONGITUDE\"] = LONGITUDE\n",
    "wifi[\"LATITUDE\"] = LATITUDE\n",
    "#VALIDATION\n",
    "VLONGITUDE = wifi_val[\"LONGITUDE\"]*np.cos(angle) +wifi_val[\"LATITUDE\"]*np.sin(angle)\n",
    "VLATITUDE = wifi_val[\"LATITUDE\"]*np.cos(angle) - wifi_val[\"LONGITUDE\"]*np.sin(angle)\n",
    "wifi_val[\"LONGITUDE\"] = VLONGITUDE\n",
    "wifi_val[\"LATITUDE\"] = VLATITUDE\n",
    "plt.scatter(VLONGITUDE,VLATITUDE)\n",
    "plt.show()\n",
    "\n",
    "#### DELETE COLUMNS #####\n",
    "\n",
    "del wifi['RELATIVEPOSITION']\n",
    "del wifi['USERID']\n",
    "del wifi['TIMESTAMP']\n",
    "del wifi_val['RELATIVEPOSITION']\n",
    "del wifi_val['USERID']\n",
    "del wifi_val['TIMESTAMP']\n",
    "\n",
    "#### PROBLEMATIC PHONES #####\n",
    "\n",
    "Phones_T = [7,8,11,17,19]\n",
    "wifi = wifi[~wifi.PHONEID.isin(Phones_T)]\n",
    "\n",
    "Phones_V = [5,12,14,21]\n",
    "wifi_val = wifi_val[~wifi_val.PHONEID.isin(Phones_V)]\n",
    "\n",
    "#Note: we need to do this before removing duplicated rows\n",
    "\n",
    "#### DUPLICATED ROWS #####\n",
    "\n",
    "wifi = wifi.drop_duplicates(subset=None, keep='first',inplace=False) \n",
    "#754 repeated rows removed (all from train)\n",
    "\n",
    "#### STRANGE AND LOW SIGNALS #####\n",
    "\n",
    "wifi.iloc[:, 0:520] = wifi.iloc[:, 0:520].replace(np.r_[1:9], 10) \n",
    "wifi_val.iloc[:, 0:520] = wifi_val.iloc[:, 0:520].replace(np.r_[1:9], 10) \n",
    "#Turn useless signals to a single useless number (10)\n",
    "\n",
    "wifi.iloc[:, 0:520] = wifi.iloc[:, 0:520].replace(np.r_[71:106], 70)\n",
    "wifi_val.iloc[:, 0:520] = wifi_val.iloc[:, 0:520].replace(np.r_[71:106], 70)\n",
    "#Reduce perfect signals above 70 to 70.\n",
    "\n",
    "#### NEW WAP AVERAGE COLUMN #####\n",
    "\n",
    "#maxWAPvalue = wifi_trainval.iloc[:,0:520].max(axis=1)\n",
    "#Note: this messes up the model"
   ]
  },
  {
   "cell_type": "markdown",
   "metadata": {},
   "source": [
    "# <a class=\"anchor\" id=\"Predictions\"> 3. Predictions </a>\n",
    "\n",
    "Two approaches make the most sense:\n",
    "1. Training on the 'train set' without splitting and testing on the 'validation set'\n",
    "2. Merging 'train' and 'validation set', splitting, and testing on ~30% of the data.\n",
    "\n",
    "In this case, we are using **Approach no. 1** (split train and test on validation)"
   ]
  },
  {
   "cell_type": "markdown",
   "metadata": {},
   "source": [
    "### <a class=\"anchor\" id=\"BuildingID\"> 3.1.1. BuildingID </a>"
   ]
  },
  {
   "cell_type": "markdown",
   "metadata": {},
   "source": [
    "### Logistic Regression (Classification)"
   ]
  },
  {
   "cell_type": "code",
   "execution_count": 26,
   "metadata": {},
   "outputs": [
    {
     "name": "stdout",
     "output_type": "stream",
     "text": [
      "95.0 confidence interval 98.9% and 100.0%\n"
     ]
    },
    {
     "data": {
      "image/png": "[encoded data removed]",
      "text/plain": [
       "<Figure size 432x288 with 1 Axes>"
      ]
     },
     "metadata": {
      "needs_background": "light"
     },
     "output_type": "display_data"
    }
   ],
   "source": [
    "#No Split\n",
    "x_train = wifi.iloc[:,0:520]\n",
    "y_train = wifi.iloc[:,np.r_[520:524]]\n",
    "x_test = wifi_val.iloc[:,0:520]\n",
    "y_test = wifi_val.iloc[:,np.r_[520:524]]\n",
    "train = pd.concat([x_train, y_train['BUILDINGID']], axis=1)\n",
    "test = pd.concat([x_test, y_test['BUILDINGID']], axis=1)\n",
    "\n",
    "#Configure Bootstrap\n",
    "n_iterations = 100\n",
    "buildingaccuracyscores = []\n",
    "buildingkappascores    = []\n",
    "\n",
    "for i in range(n_iterations):\n",
    "    \n",
    "   #Prepare train and test sets\n",
    "   trains = resample(train, n_samples = int(len(train) * 0.50))\n",
    "   tests  = resample(test, n_samples = int(len(test) * 0.50))\n",
    "\n",
    "   #Fit model\n",
    "   model = LogisticRegression(\n",
    "    random_state=0, solver='lbfgs', multi_class='multinomial').fit(trains.iloc[:,:-1], trains.iloc[:,-1])\n",
    "    \n",
    "   #Evaluate model\n",
    "   predictions = model.predict(tests.iloc[:,:-1])\n",
    "   score1 = accuracy_score(tests.iloc[:,-1], predictions)\n",
    "   score2 = cohen_kappa_score(tests.iloc[:,-1], predictions)\n",
    "   buildingaccuracyscores.append(score1)\n",
    "   buildingkappascores.append(score2)\n",
    "\n",
    "plt.hist(buildingaccuracyscores)\n",
    "\n",
    "alpha = 0.95\n",
    "p = ((1.0-alpha)/2.0) * 100\n",
    "lowerbuildacc = max(0.0, np.percentile(buildingaccuracyscores, p))\n",
    "p = (alpha+((1.0-alpha)/2.0)) * 100\n",
    "upperbuildacc = min(1.0, np.percentile(buildingaccuracyscores, p))\n",
    "print('%.1f confidence interval %.1f%% and %.1f%%' % (alpha*100, lowerbuildacc*100, upperbuildacc*100))"
   ]
  },
  {
   "cell_type": "markdown",
   "metadata": {},
   "source": [
    "### <a class=\"anchor\" id=\"Floor\"> 3.1.2. Floor </a>"
   ]
  },
  {
   "cell_type": "code",
   "execution_count": 27,
   "metadata": {},
   "outputs": [
    {
     "name": "stdout",
     "output_type": "stream",
     "text": [
      "95.0 confidence interval 84.9% and 90.7%\n"
     ]
    },
    {
     "data": {
      "image/png": "[encoded data removed]",
      "text/plain": [
       "<Figure size 432x288 with 1 Axes>"
      ]
     },
     "metadata": {
      "needs_background": "light"
     },
     "output_type": "display_data"
    }
   ],
   "source": [
    "#No Split\n",
    "x_train = wifi.iloc[:,0:520]\n",
    "y_train = wifi.iloc[:,np.r_[520:524]]\n",
    "x_test = wifi_val.iloc[:,0:520]\n",
    "y_test = wifi_val.iloc[:,np.r_[520:524]]\n",
    "train = pd.concat([x_train, y_train['FLOOR']], axis=1)\n",
    "test = pd.concat([x_test, y_test['FLOOR']], axis=1)\n",
    "\n",
    "#Configure Bootstrap\n",
    "n_iterations = 100\n",
    "flooraccuracyscores = []\n",
    "floorkappascores    = []\n",
    "\n",
    "for i in range(n_iterations): \n",
    "   #Prepare train and test sets\n",
    "   trains = resample(train, n_samples = int(len(train) * 0.50))\n",
    "   tests  = resample(test, n_samples = int(len(test) * 0.50))\n",
    "   #Fit model\n",
    "   model = KNeighborsClassifier(n_neighbors=7).fit(trains.iloc[:,:-1], trains.iloc[:,-1])    \n",
    "   #Evaluate model\n",
    "   predictions = model.predict(tests.iloc[:,:-1])\n",
    "   score1 = accuracy_score(tests.iloc[:,-1], predictions)\n",
    "   score2 = cohen_kappa_score(tests.iloc[:,-1], predictions)\n",
    "   flooraccuracyscores.append(score1)\n",
    "   floorkappascores.append(score2)\n",
    "\n",
    "plt.hist(flooraccuracyscores)\n",
    "\n",
    "alpha = 0.95\n",
    "p = ((1.0-alpha)/2.0) * 100\n",
    "lowerflooracc = max(0.0, np.percentile(flooraccuracyscores, p))\n",
    "p = (alpha+((1.0-alpha)/2.0)) * 100\n",
    "upperflooracc = min(1.0, np.percentile(flooraccuracyscores, p))\n",
    "print('%.1f confidence interval %.1f%% and %.1f%%' % (alpha*100, lowerflooracc*100, upperflooracc*100))"
   ]
  },
  {
   "cell_type": "markdown",
   "metadata": {},
   "source": [
    "### <a class=\"anchor\" id=\"Latitude\"> 3.1.3. Latitude </a>"
   ]
  },
  {
   "cell_type": "code",
   "execution_count": 30,
   "metadata": {},
   "outputs": [
    {
     "name": "stdout",
     "output_type": "stream",
     "text": [
      "RMSE is  8.838077985395826 with +/- 0.6581378665613686\n",
      "MAE is  5.348299023384391 with +/- 0.3159840925115682\n",
      "R2 is  0.9272054383426798 with +/- 0.010954592197730343\n"
     ]
    },
    {
     "data": {
      "image/png": "[encoded data removed]",
      "text/plain": [
       "<Figure size 432x288 with 1 Axes>"
      ]
     },
     "metadata": {
      "needs_background": "light"
     },
     "output_type": "display_data"
    }
   ],
   "source": [
    "#No Split\n",
    "x_train = wifi.iloc[:,0:520]\n",
    "y_train = wifi.iloc[:,np.r_[520:524]]\n",
    "x_test = wifi_val.iloc[:,0:520]\n",
    "y_test = wifi_val.iloc[:,np.r_[520:524]]\n",
    "train = pd.concat([x_train, y_train['LATITUDE']], axis=1)\n",
    "test = pd.concat([x_test, y_test['LATITUDE']], axis=1)\n",
    "\n",
    "#Configure Bootstrap\n",
    "n_iterations = 100\n",
    "latRMSE = []\n",
    "latMAE  = []\n",
    "latR2   = []\n",
    "\n",
    "for i in range(n_iterations):\n",
    "   #Prepare train and test sets\n",
    "   trains = resample(train, n_samples = int(len(train) * 0.50))\n",
    "   tests  = resample(test, n_samples = int(len(test) * 0.50))\n",
    "   #Fit model\n",
    "   model = KNeighborsRegressor(n_neighbors=10)\n",
    "   model.fit(trains.iloc[:,:-1], trains.iloc[:,-1])\n",
    "   #Evaluate model\n",
    "   predictions = model.predict(tests.iloc[:,:-1])\n",
    "   score1 = sqrt(mean_squared_error(tests.iloc[:,-1], predictions))\n",
    "   score2 = mean_absolute_error(tests.iloc[:,-1], predictions)\n",
    "   score3 = r2_score(tests.iloc[:,-1], predictions)\n",
    "   longRMSE.append(score1)\n",
    "   longMAE.append(score2)\n",
    "   longR2.append(score3)\n",
    "\n",
    "\n",
    "plt.hist(latRMSE)\n",
    "plt.hist(latMAE)\n",
    "plt.hist(latR2)\n",
    "\n",
    "devlatRMSE = st.stdev(latRMSE)\n",
    "devlatMAE = st.stdev(latMAE)\n",
    "devlatR2 = st.stdev(latR2)\n",
    "meanlatRMSE = st.mean(latRMSE)\n",
    "meanlatMAE  = st.mean(latMAE)\n",
    "meanlatR2   = st.mean(latR2)\n",
    "print(\"RMSE is \", meanlongRMSE, \"with +/-\",devlatRMSE)\n",
    "print(\"MAE is \", meanlongMAE, \"with +/-\",devlatMAE)\n",
    "print(\"R2 is \", meanlongR2, \"with +/-\",devlatR2)"
   ]
  },
  {
   "cell_type": "markdown",
   "metadata": {},
   "source": [
    "### <a class=\"anchor\" id=\"Longitude\"> 3.1.4. Longitude </a>"
   ]
  },
  {
   "cell_type": "code",
   "execution_count": 31,
   "metadata": {},
   "outputs": [
    {
     "name": "stdout",
     "output_type": "stream",
     "text": [
      "RMSE is  16.596715245608763 with +/- 4.6935882490245735\n",
      "MAE is  6.716893610896097 with +/- 1.03779999607732\n",
      "R2 is  0.9835702224795249 with +/- 0.009454573932249771\n"
     ]
    },
    {
     "data": {
      "image/png": "[encoded data removed]",
      "text/plain": [
       "<Figure size 432x288 with 1 Axes>"
      ]
     },
     "metadata": {
      "needs_background": "light"
     },
     "output_type": "display_data"
    }
   ],
   "source": [
    "#No Split\n",
    "x_train = wifi.iloc[:,0:520]\n",
    "y_train = wifi.iloc[:,np.r_[520:524]]\n",
    "x_test = wifi_val.iloc[:,0:520]\n",
    "y_test = wifi_val.iloc[:,np.r_[520:524]]\n",
    "train = pd.concat([x_train, y_train['LONGITUDE']], axis=1)\n",
    "test = pd.concat([x_test, y_test['LONGITUDE']], axis=1)\n",
    "\n",
    "#Configure Bootstrap\n",
    "n_iterations = 100\n",
    "longRMSE = []\n",
    "longMAE  = []\n",
    "longR2   = []\n",
    "\n",
    "for i in range(n_iterations):\n",
    "   #Prepare train and test sets\n",
    "   trains = resample(train, n_samples = int(len(train) * 0.50))\n",
    "   tests  = resample(test, n_samples = int(len(test) * 0.50))\n",
    "   #Fit model\n",
    "   model = KNeighborsRegressor(n_neighbors=7)\n",
    "   model.fit(trains.iloc[:,:-1], trains.iloc[:,-1])\n",
    "   #Evaluate model\n",
    "   predictions = model.predict(tests.iloc[:,:-1])\n",
    "   score1 = sqrt(mean_squared_error(tests.iloc[:,-1], predictions))\n",
    "   score2 = mean_absolute_error(tests.iloc[:,-1], predictions)\n",
    "   score3 = r2_score(tests.iloc[:,-1], predictions)\n",
    "   longRMSE.append(score1)\n",
    "   longMAE.append(score2)\n",
    "   longR2.append(score3)\n",
    "\n",
    "\n",
    "plt.hist(longRMSE)\n",
    "plt.hist(longMAE)\n",
    "plt.hist(longR2)\n",
    "\n",
    "devlongRMSE = st.stdev(longRMSE)\n",
    "devlongMAE = st.stdev(longMAE)\n",
    "devlongR2 = st.stdev(longR2)\n",
    "meanlongRMSE = st.mean(longRMSE)\n",
    "meanlongMAE  = st.mean(longMAE)\n",
    "meanlongR2   = st.mean(longR2)\n",
    "print(\"RMSE is \", meanlongRMSE, \"with +/-\",devlongRMSE)\n",
    "print(\"MAE is \", meanlongMAE, \"with +/-\",devlongMAE)\n",
    "print(\"R2 is \", meanlongR2, \"with +/-\",devlongR2)"
   ]
  }
 ],
 "metadata": {
  "kernelspec": {
   "display_name": "Python 3",
   "language": "python",
   "name": "python3"
  },
  "language_info": {
   "codemirror_mode": {
    "name": "ipython",
    "version": 3
   },
   "file_extension": ".py",
   "mimetype": "text/x-python",
   "name": "python",
   "nbconvert_exporter": "python",
   "pygments_lexer": "ipython3",
   "version": "3.7.3"
  }
 },
 "nbformat": 4,
 "nbformat_minor": 2
}
