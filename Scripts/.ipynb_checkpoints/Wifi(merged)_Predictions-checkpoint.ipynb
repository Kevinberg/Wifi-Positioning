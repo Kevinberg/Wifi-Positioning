{
 "cells": [
  {
   "cell_type": "markdown",
   "metadata": {},
   "source": [
    "# Wifi Localization Problem Part3\n",
    "\n",
    "* [0. Previous Preprocessing](#Preprocessing)\n",
    "* [3. Predictions](#Predictions)\n",
    "    * [3.1. Cascading Predictions](#Cascade)\n",
    "        * [3.1.1. BuildingID](#BuildingID)\n",
    "            * [3.1.1.1. Building Model Performance](#Building_Perf)\n",
    "        * [3.1.2. Floor](#Floor)\n",
    "            * [3.1.2.1. Floor Model Performance](#Floor_Perf)\n",
    "        * [3.1.3. Latitude](#Latitude)\n",
    "            * [3.1.3.1. Latitude Model Performance](#Latitude_Perf)\n",
    "        * [3.1.3. Longitude](#Longitude)\n",
    "            * [3.1.3.4. Longitude Model Performance](#Longitude_Perf)"
   ]
  },
  {
   "cell_type": "code",
   "execution_count": 1,
   "metadata": {},
   "outputs": [],
   "source": [
    "#Load and import workspace\n",
    "import dill\n",
    "#dill.dump_session('notebook_session.db')\n",
    "#dill.load_session('notebook_session.db')"
   ]
  },
  {
   "cell_type": "code",
   "execution_count": 2,
   "metadata": {},
   "outputs": [],
   "source": [
    "#Import Libraries\n",
    "import pandas as pd\n",
    "import matplotlib.pyplot as plt\n",
    "import plotly.express as px\n",
    "import numpy as np\n",
    "import math\n",
    "import scipy\n",
    "\n",
    "#Import Models\n",
    "import random\n",
    "from sklearn.ensemble import RandomForestRegressor\n",
    "from sklearn.ensemble import RandomForestClassifier\n",
    "from sklearn.model_selection import cross_val_score\n",
    "from sklearn.svm import SVR\n",
    "from sklearn.linear_model import LogisticRegression\n",
    "from sklearn.neighbors import KNeighborsClassifier\n",
    "from sklearn.neighbors import KNeighborsRegressor\n",
    "\n",
    "#Model Metrics\n",
    "from sklearn.metrics import mean_squared_error\n",
    "from sklearn.metrics import r2_score\n",
    "from sklearn.metrics import mean_absolute_error\n",
    "from sklearn.metrics import cohen_kappa_score\n",
    "from sklearn.metrics import accuracy_score\n",
    "from sklearn.metrics import classification_report, confusion_matrix\n",
    "\n",
    "#Cross Validation\n",
    "from sklearn.model_selection import train_test_split\n",
    "from math import sqrt"
   ]
  },
  {
   "cell_type": "code",
   "execution_count": 3,
   "metadata": {},
   "outputs": [],
   "source": [
    "#Import Datasets\n",
    "wifi = pd.read_csv('trainingData.csv')\n",
    "wifi_val = pd.read_csv('validationData.csv')\n",
    "wifi_trainval = pd.concat([wifi,wifi_val])"
   ]
  },
  {
   "cell_type": "markdown",
   "metadata": {},
   "source": [
    "# <a class=\"anchor\" id=\"Preprocessing\"> 0. Previous Preprocessing and Feat. Engineering </a>"
   ]
  },
  {
   "cell_type": "code",
   "execution_count": 4,
   "metadata": {},
   "outputs": [
    {
     "data": {
      "image/png": "[encoded data removed]",
      "text/plain": [
       "<Figure size 432x288 with 1 Axes>"
      ]
     },
     "metadata": {
      "needs_background": "light"
     },
     "output_type": "display_data"
    }
   ],
   "source": [
    "#### SCALE CHANGE ####\n",
    "\n",
    "wifi_trainval.iloc[:, 0:520] = np.where(wifi_trainval.iloc[:, 0:520] <= 0,\n",
    "       wifi_trainval.iloc[:, 0:520] + 105,\n",
    "       wifi_trainval.iloc[:, 0:520] - 100)\n",
    "\n",
    "\n",
    "#### ORIENTATION CHANGE #####\n",
    "\n",
    "#TRAIN\n",
    "angle = np.arctan(wifi[\"LATITUDE\"][0]/wifi[\"LONGITUDE\"][0])\n",
    "angle = angle/math.pi\n",
    "LONGITUDE = wifi[\"LONGITUDE\"]*np.cos(angle) + wifi[\"LATITUDE\"]*np.sin(angle)\n",
    "LATITUDE = wifi[\"LATITUDE\"]*np.cos(angle) - wifi[\"LONGITUDE\"]*np.sin(angle)\n",
    "plt.scatter(LONGITUDE,LATITUDE)\n",
    "wifi[\"LONGITUDE\"] = LONGITUDE\n",
    "wifi[\"LATITUDE\"] = LATITUDE\n",
    "#MERGED\n",
    "VLONGITUDE = wifi_trainval[\"LONGITUDE\"]*np.cos(angle) +wifi_trainval[\"LATITUDE\"]*np.sin(angle)\n",
    "VLATITUDE = wifi_trainval[\"LATITUDE\"]*np.cos(angle) - wifi_trainval[\"LONGITUDE\"]*np.sin(angle)\n",
    "wifi_trainval[\"LONGITUDE\"] = VLONGITUDE\n",
    "wifi_trainval[\"LATITUDE\"] = VLATITUDE\n",
    "plt.scatter(VLONGITUDE,VLATITUDE)\n",
    "plt.show()\n",
    "\n",
    "#### DELETE COLUMNS #####\n",
    "\n",
    "del wifi_trainval['RELATIVEPOSITION']\n",
    "del wifi_trainval['USERID']\n",
    "del wifi_trainval['TIMESTAMP']\n",
    "\n",
    "#### PROBLEMATIC PHONES #####\n",
    "\n",
    "Phones = [5,7,8,11,12,14,17,19,21]\n",
    "wifi_trainval = wifi_trainval[~wifi_trainval.PHONEID.isin(Phones)]\n",
    "#Note: we need to do this before removing duplicated rows\n",
    "\n",
    "#### DUPLICATED ROWS #####\n",
    "\n",
    "wifi_trainval = wifi_trainval.drop_duplicates(subset=None, keep='first',inplace=False) \n",
    "#754 repeated rows removed (all from train)\n",
    "\n",
    "#### STRANGE AND LOW SIGNALS #####\n",
    "\n",
    "wifi_trainval.iloc[:, 0:520] = wifi_trainval.iloc[:, 0:520].replace(np.r_[1:9], 10) \n",
    "#Turn useless signals to a single useless number (10)\n",
    "\n",
    "wifi_trainval.iloc[:, 0:520] = wifi_trainval.iloc[:, 0:520].replace(np.r_[71:106], 70) \n",
    "#Reduce perfect signals above 70 to 70.\n",
    "\n",
    "#### NEW WAP AVERAGE COLUMN #####\n",
    "\n",
    "#maxWAPvalue = wifi_trainval.iloc[:,0:520].max(axis=1)\n",
    "#Note: this messes up the model"
   ]
  },
  {
   "cell_type": "markdown",
   "metadata": {},
   "source": [
    "# <a class=\"anchor\" id=\"Predictions\"> 3. Predictions </a>\n",
    "\n",
    "Two approaches make the most sense:\n",
    "1. Training on the 'train set' without splitting and testing on the 'validation set'\n",
    "2. Merging 'train' and 'validation set', splitting, and testing on ~30% of the data.\n",
    "\n",
    "In this case, we are using **Approach no. 2** (merging datasets)"
   ]
  },
  {
   "cell_type": "markdown",
   "metadata": {},
   "source": [
    "## <a class=\"anchor\" id=\"Cascade\"> 3.1. Cascading Predictions </a>\n",
    "\n",
    "The order for prediction will be: first Building, then Floor, then Latitude and finally Longitude. <br>\n",
    "The reasonale is the following: <br>\n",
    "Building is the easiest to predict, since there's only 3 possibilities. Immediately next goes floor.\n",
    "As for Latitude or Longitude, the reason is not very strong, but Latitude is kind of the 'x' axis in the world map, which defines building (after angle transformation)."
   ]
  },
  {
   "cell_type": "code",
   "execution_count": 5,
   "metadata": {},
   "outputs": [
    {
     "name": "stdout",
     "output_type": "stream",
     "text": [
      "523\n",
      "522\n",
      "521\n",
      "520\n"
     ]
    }
   ],
   "source": [
    "#Making sure what number each column is\n",
    "print(wifi_trainval.columns.get_loc('BUILDINGID'))\n",
    "print(wifi_trainval.columns.get_loc('FLOOR'))\n",
    "print(wifi_trainval.columns.get_loc('LATITUDE'))  #The 'X' coordinate\n",
    "print(wifi_trainval.columns.get_loc('LONGITUDE')) #The 'Y' coordinate"
   ]
  },
  {
   "cell_type": "markdown",
   "metadata": {},
   "source": [
    "### <a class=\"anchor\" id=\"Split\"> 3.1.0. Set up Labels & Split </a>"
   ]
  },
  {
   "cell_type": "code",
   "execution_count": 6,
   "metadata": {},
   "outputs": [
    {
     "data": {
      "text/plain": [
       "((7808, 520), (3347, 520), (7808, 4), (3347, 4))"
      ]
     },
     "execution_count": 6,
     "metadata": {},
     "output_type": "execute_result"
    }
   ],
   "source": [
    "#Defining Train & Label\n",
    "x = wifi_trainval.iloc[:,0:520]\n",
    "y = wifi_trainval.iloc[:,np.r_[520:524]] #Last number is not included\n",
    "#We select the 4 columns we want to predict, and will choose one in each step\n",
    "\n",
    "random.seed(101)\n",
    "x_train, x_test, y_train, y_test = train_test_split(x, y, train_size=0.7)\n",
    "x_train.shape, x_test.shape, y_train.shape, y_test.shape"
   ]
  },
  {
   "cell_type": "markdown",
   "metadata": {},
   "source": [
    "### <a class=\"anchor\" id=\"BuildingID\"> 3.1.1. BuildingID </a>"
   ]
  },
  {
   "cell_type": "markdown",
   "metadata": {},
   "source": [
    "### Random Forest (Classification)"
   ]
  },
  {
   "cell_type": "code",
   "execution_count": 7,
   "metadata": {},
   "outputs": [
    {
     "name": "stdout",
     "output_type": "stream",
     "text": [
      "[0.99872123 0.99872123 0.99616368 0.99872123 0.99744246 0.99871795\n",
      " 0.99871795 0.9974359  0.9987163  0.99743261]\n",
      "Accuracy: 0.9994024499551838\n",
      "Kappa: 0.9990706433247367\n",
      "              precision    recall  f1-score   support\n",
      "\n",
      "           0       1.00      1.00      1.00       935\n",
      "           1       1.00      1.00      1.00       878\n",
      "           2       1.00      1.00      1.00      1534\n",
      "\n",
      "    accuracy                           1.00      3347\n",
      "   macro avg       1.00      1.00      1.00      3347\n",
      "weighted avg       1.00      1.00      1.00      3347\n",
      "\n"
     ]
    },
    {
     "data": {
      "text/plain": [
       "array([[ 935,    0,    0],\n",
       "       [   0,  876,    2],\n",
       "       [   0,    0, 1534]])"
      ]
     },
     "execution_count": 7,
     "metadata": {},
     "output_type": "execute_result"
    }
   ],
   "source": [
    "#RANDOM FOREST\n",
    "RF_B = RandomForestClassifier(n_estimators =100).fit(x_train,y_train['BUILDINGID'])\n",
    "print(cross_val_score(RF_B, x_train, y_train['BUILDINGID'], cv=10))\n",
    "\n",
    "#Predictions\n",
    "RFpredictions_building = RF_B.predict(x_test)\n",
    "\n",
    "#Performance Metrics (Errors)\n",
    "print(\"Accuracy:\", accuracy_score(y_test['BUILDINGID'], RFpredictions_building))\n",
    "print(\"Kappa:\", cohen_kappa_score(y_test['BUILDINGID'], RFpredictions_building))\n",
    "print(classification_report(y_test['BUILDINGID'], RFpredictions_building)) #DO NOT UNDERSTAND ALL THIS\n",
    "confusion_matrix(y_test['BUILDINGID'], RFpredictions_building)"
   ]
  },
  {
   "cell_type": "markdown",
   "metadata": {},
   "source": [
    "### Logistic Regression (Classification)"
   ]
  },
  {
   "cell_type": "code",
   "execution_count": 35,
   "metadata": {},
   "outputs": [
    {
     "name": "stdout",
     "output_type": "stream",
     "text": [
      "[1.         0.99402985 0.99701493 0.99701493 1.         0.99701493\n",
      " 1.         1.         1.         0.99698795]\n",
      "Accuracy: 0.9988048999103675\n",
      "Kappa: 0.9981522977036489\n",
      "              precision    recall  f1-score   support\n",
      "\n",
      "           0       1.00      1.00      1.00       909\n",
      "           1       1.00      1.00      1.00       939\n",
      "           2       1.00      1.00      1.00      1499\n",
      "\n",
      "    accuracy                           1.00      3347\n",
      "   macro avg       1.00      1.00      1.00      3347\n",
      "weighted avg       1.00      1.00      1.00      3347\n",
      "\n"
     ]
    },
    {
     "data": {
      "text/plain": [
       "array([[ 909,    0,    0],\n",
       "       [   1,  935,    3],\n",
       "       [   0,    0, 1499]])"
      ]
     },
     "execution_count": 35,
     "metadata": {},
     "output_type": "execute_result"
    }
   ],
   "source": [
    "#DON'T FULLY UNDERSTAND THIS (or the warnings)\n",
    "LR_B = LogisticRegression(\n",
    "    random_state=0, solver='lbfgs', multi_class='multinomial').fit(x_train ,y_train['BUILDINGID'])\n",
    "print(cross_val_score(LR_B, x_test, y_test['BUILDINGID'], cv=10))\n",
    "\n",
    "#Predictions\n",
    "LRpredictions_building = LR_B.predict(x_test)\n",
    "\n",
    "#Performance Metrics (Errors)\n",
    "print(\"Accuracy:\", accuracy_score(y_test['BUILDINGID'], LRpredictions_building))\n",
    "print(\"Kappa:\", cohen_kappa_score(y_test['BUILDINGID'], LRpredictions_building))\n",
    "print(classification_report(y_test['BUILDINGID'], LRpredictions_building))\n",
    "confusion_matrix(y_test['BUILDINGID'], LRpredictions_building)"
   ]
  },
  {
   "cell_type": "markdown",
   "metadata": {},
   "source": [
    "### KNN (Classification)"
   ]
  },
  {
   "cell_type": "code",
   "execution_count": 36,
   "metadata": {},
   "outputs": [
    {
     "name": "stdout",
     "output_type": "stream",
     "text": [
      "[0.99701493 0.99104478 0.99402985 1.         0.99402985 1.\n",
      " 1.         1.         1.         0.99698795]\n",
      "Accuracy: 0.9979085748431431\n",
      "Kappa: 0.9967690047309968\n",
      "              precision    recall  f1-score   support\n",
      "\n",
      "           0       1.00      1.00      1.00       909\n",
      "           1       0.99      1.00      1.00       939\n",
      "           2       1.00      1.00      1.00      1499\n",
      "\n",
      "    accuracy                           1.00      3347\n",
      "   macro avg       1.00      1.00      1.00      3347\n",
      "weighted avg       1.00      1.00      1.00      3347\n",
      "\n"
     ]
    },
    {
     "data": {
      "text/plain": [
       "array([[ 909,    0,    0],\n",
       "       [   0,  939,    0],\n",
       "       [   0,    7, 1492]])"
      ]
     },
     "execution_count": 36,
     "metadata": {},
     "output_type": "execute_result"
    }
   ],
   "source": [
    "KNN_B = KNeighborsClassifier(n_neighbors=1).fit(x_train, y_train['BUILDINGID'])\n",
    "print(cross_val_score(KNN_B, x_test, y_test['BUILDINGID'], cv=10))\n",
    "\n",
    "#Predictions\n",
    "KNNpredictions_building = KNN_B.predict(x_test)\n",
    "\n",
    "#Performance Metrics (Errors)\n",
    "print(\"Accuracy:\", accuracy_score(y_test['BUILDINGID'], KNNpredictions_building))\n",
    "print(\"Kappa:\", cohen_kappa_score(y_test['BUILDINGID'], KNNpredictions_building))\n",
    "print(classification_report(y_test['BUILDINGID'], KNNpredictions_building))\n",
    "confusion_matrix(y_test['BUILDINGID'], KNNpredictions_building)\n",
    "\n",
    "#K=1 seems to be the best"
   ]
  },
  {
   "cell_type": "markdown",
   "metadata": {},
   "source": [
    "### <a class=\"anchor\" id=\"Building_Perf\"> 3.1.1.1 Building Model Performance </a>"
   ]
  },
  {
   "cell_type": "code",
   "execution_count": 37,
   "metadata": {},
   "outputs": [
    {
     "data": {
      "text/html": [
       "<div>\n",
       "<style scoped>\n",
       "    .dataframe tbody tr th:only-of-type {\n",
       "        vertical-align: middle;\n",
       "    }\n",
       "\n",
       "    .dataframe tbody tr th {\n",
       "        vertical-align: top;\n",
       "    }\n",
       "\n",
       "    .dataframe thead th {\n",
       "        text-align: right;\n",
       "    }\n",
       "</style>\n",
       "<table border=\"1\" class=\"dataframe\">\n",
       "  <thead>\n",
       "    <tr style=\"text-align: right;\">\n",
       "      <th></th>\n",
       "      <th>Model</th>\n",
       "      <th>Accuracy</th>\n",
       "      <th>Kappa</th>\n",
       "    </tr>\n",
       "  </thead>\n",
       "  <tbody>\n",
       "    <tr>\n",
       "      <th>0</th>\n",
       "      <td>Forest</td>\n",
       "      <td>0.998506</td>\n",
       "      <td>0.997690</td>\n",
       "    </tr>\n",
       "    <tr>\n",
       "      <th>1</th>\n",
       "      <td>Logistic Regression</td>\n",
       "      <td>0.998805</td>\n",
       "      <td>0.998152</td>\n",
       "    </tr>\n",
       "    <tr>\n",
       "      <th>2</th>\n",
       "      <td>KNN</td>\n",
       "      <td>0.997909</td>\n",
       "      <td>0.996769</td>\n",
       "    </tr>\n",
       "  </tbody>\n",
       "</table>\n",
       "</div>"
      ],
      "text/plain": [
       "                 Model  Accuracy     Kappa\n",
       "0               Forest  0.998506  0.997690\n",
       "1  Logistic Regression  0.998805  0.998152\n",
       "2                  KNN  0.997909  0.996769"
      ]
     },
     "execution_count": 37,
     "metadata": {},
     "output_type": "execute_result"
    }
   ],
   "source": [
    "BUILDING_Performance = [['Forest', accuracy_score(y_test['BUILDINGID'], RFpredictions_building),\n",
    "                     cohen_kappa_score(y_test['BUILDINGID'], RFpredictions_building)],\n",
    "                        [\"Logistic Regression\", accuracy_score(y_test['BUILDINGID'], LRpredictions_building),\n",
    "                cohen_kappa_score(y_test['BUILDINGID'], LRpredictions_building)],\n",
    "                [\"KNN\", accuracy_score(y_test['BUILDINGID'], KNNpredictions_building),\n",
    "                cohen_kappa_score(y_test['BUILDINGID'], KNNpredictions_building)]]\n",
    "                                \n",
    "df_BUILDING_perf = pd.DataFrame(BUILDING_Performance, columns = ['Model', 'Accuracy','Kappa'])\n",
    "df_BUILDING_perf"
   ]
  },
  {
   "cell_type": "markdown",
   "metadata": {},
   "source": [
    "I'm choosing Logistic Regression"
   ]
  },
  {
   "cell_type": "markdown",
   "metadata": {},
   "source": [
    "### <a class=\"anchor\" id=\"Floor\"> 3.1.2. Floor </a>"
   ]
  },
  {
   "cell_type": "markdown",
   "metadata": {},
   "source": [
    "### Random Forest (Classification)"
   ]
  },
  {
   "cell_type": "code",
   "execution_count": 38,
   "metadata": {},
   "outputs": [
    {
     "name": "stderr",
     "output_type": "stream",
     "text": [
      "/home/s/anaconda3/lib/python3.7/site-packages/ipykernel_launcher.py:2: SettingWithCopyWarning:\n",
      "\n",
      "\n",
      "A value is trying to be set on a copy of a slice from a DataFrame.\n",
      "Try using .loc[row_indexer,col_indexer] = value instead\n",
      "\n",
      "See the caveats in the documentation: http://pandas.pydata.org/pandas-docs/stable/indexing.html#indexing-view-versus-copy\n",
      "\n",
      "/home/s/anaconda3/lib/python3.7/site-packages/ipykernel_launcher.py:3: SettingWithCopyWarning:\n",
      "\n",
      "\n",
      "A value is trying to be set on a copy of a slice from a DataFrame.\n",
      "Try using .loc[row_indexer,col_indexer] = value instead\n",
      "\n",
      "See the caveats in the documentation: http://pandas.pydata.org/pandas-docs/stable/indexing.html#indexing-view-versus-copy\n",
      "\n",
      "/home/s/anaconda3/lib/python3.7/site-packages/sklearn/ensemble/forest.py:245: FutureWarning:\n",
      "\n",
      "The default value of n_estimators will change from 10 in version 0.20 to 100 in 0.22.\n",
      "\n"
     ]
    },
    {
     "name": "stdout",
     "output_type": "stream",
     "text": [
      "[0.98464491 0.97823303 0.9871877  0.98975016 0.98910955]\n",
      "Accuracy: 0.9856587989244099\n",
      "Kappa: 0.9810062627928062\n",
      "              precision    recall  f1-score   support\n",
      "\n",
      "           0       0.99      0.99      0.99       633\n",
      "           1       0.98      0.99      0.98       914\n",
      "           2       0.99      0.97      0.98       846\n",
      "           3       0.99      0.99      0.99       887\n",
      "           4       0.98      0.97      0.98        67\n",
      "\n",
      "    accuracy                           0.99      3347\n",
      "   macro avg       0.99      0.98      0.98      3347\n",
      "weighted avg       0.99      0.99      0.99      3347\n",
      "\n"
     ]
    },
    {
     "data": {
      "text/plain": [
       "array([[627,   5,   1,   0,   0],\n",
       "       [  5, 904,   3,   2,   0],\n",
       "       [  1,  18, 824,   3,   0],\n",
       "       [  3,   0,   4, 879,   1],\n",
       "       [  0,   0,   0,   2,  65]])"
      ]
     },
     "execution_count": 38,
     "metadata": {},
     "output_type": "execute_result"
    }
   ],
   "source": [
    "#Creating a new column and pasting the predictions to the test\n",
    "x_train['BUILDINGID'] = y_train['BUILDINGID']\n",
    "x_test['BUILDINGID'] = LRpredictions_building\n",
    "\n",
    "RF_F = RandomForestClassifier().fit(x_train,y_train['FLOOR'])\n",
    "print(cross_val_score(RF_F, x_train, y_train['FLOOR'], cv=5))\n",
    "\n",
    "#Predictions\n",
    "RFpredictions_floor = RF_F.predict(x_test)\n",
    "\n",
    "#Performance Metrics (Errors)\n",
    "print(\"Accuracy:\", accuracy_score(y_test['FLOOR'], RFpredictions_floor))\n",
    "print(\"Kappa:\", cohen_kappa_score(y_test['FLOOR'], RFpredictions_floor))\n",
    "print(classification_report(y_test['FLOOR'], RFpredictions_floor)) #DO NOT UNDERSTAND THIS\n",
    "confusion_matrix(y_test['FLOOR'], RFpredictions_floor)"
   ]
  },
  {
   "cell_type": "markdown",
   "metadata": {},
   "source": [
    "### KNN (Classification)"
   ]
  },
  {
   "cell_type": "code",
   "execution_count": 39,
   "metadata": {},
   "outputs": [
    {
     "name": "stderr",
     "output_type": "stream",
     "text": [
      "/home/s/anaconda3/lib/python3.7/site-packages/ipykernel_launcher.py:2: SettingWithCopyWarning:\n",
      "\n",
      "\n",
      "A value is trying to be set on a copy of a slice from a DataFrame.\n",
      "Try using .loc[row_indexer,col_indexer] = value instead\n",
      "\n",
      "See the caveats in the documentation: http://pandas.pydata.org/pandas-docs/stable/indexing.html#indexing-view-versus-copy\n",
      "\n",
      "/home/s/anaconda3/lib/python3.7/site-packages/ipykernel_launcher.py:3: SettingWithCopyWarning:\n",
      "\n",
      "\n",
      "A value is trying to be set on a copy of a slice from a DataFrame.\n",
      "Try using .loc[row_indexer,col_indexer] = value instead\n",
      "\n",
      "See the caveats in the documentation: http://pandas.pydata.org/pandas-docs/stable/indexing.html#indexing-view-versus-copy\n",
      "\n"
     ]
    },
    {
     "name": "stdout",
     "output_type": "stream",
     "text": [
      "[0.99296225 0.99231754 0.99615631 0.99359385 0.99359385]\n",
      "Accuracy: 0.9913355243501644\n",
      "Kappa: 0.9885285569356475\n",
      "              precision    recall  f1-score   support\n",
      "\n",
      "           0       0.98      1.00      0.99       633\n",
      "           1       0.99      0.99      0.99       914\n",
      "           2       0.99      0.99      0.99       846\n",
      "           3       0.99      0.99      0.99       887\n",
      "           4       0.99      0.99      0.99        67\n",
      "\n",
      "    accuracy                           0.99      3347\n",
      "   macro avg       0.99      0.99      0.99      3347\n",
      "weighted avg       0.99      0.99      0.99      3347\n",
      "\n"
     ]
    },
    {
     "data": {
      "text/plain": [
       "array([[631,   1,   1,   0,   0],\n",
       "       [  6, 905,   2,   1,   0],\n",
       "       [  1,   6, 836,   3,   0],\n",
       "       [  3,   0,   3, 880,   1],\n",
       "       [  0,   0,   0,   1,  66]])"
      ]
     },
     "execution_count": 39,
     "metadata": {},
     "output_type": "execute_result"
    }
   ],
   "source": [
    "#Creating a new column and pasting the predictions to the test\n",
    "x_train['BUILDINGID'] = y_train['BUILDINGID']\n",
    "x_test['BUILDINGID'] = LRpredictions_building\n",
    "\n",
    "KNN_F = KNeighborsClassifier(n_neighbors=1).fit(x_train, y_train['FLOOR'])\n",
    "print(cross_val_score(KNN_F, x_train, y_train['FLOOR'], cv=5))\n",
    "\n",
    "#Predictions\n",
    "KNNpredictions_floor = KNN_F.predict(x_test)\n",
    "\n",
    "#Performance Metrics (Errors)\n",
    "print(\"Accuracy:\", accuracy_score(y_test['FLOOR'], KNNpredictions_floor))\n",
    "print(\"Kappa:\", cohen_kappa_score(y_test['FLOOR'], KNNpredictions_floor))\n",
    "print(classification_report(y_test['FLOOR'], KNNpredictions_floor)) #DO NOT UNDERSTAND THIS\n",
    "confusion_matrix(y_test['FLOOR'], KNNpredictions_floor)"
   ]
  },
  {
   "cell_type": "markdown",
   "metadata": {},
   "source": [
    "### <a class=\"anchor\" id=\"Floor_Perf\"> 3.1.2.1 Floor Model Performance </a>"
   ]
  },
  {
   "cell_type": "code",
   "execution_count": 40,
   "metadata": {},
   "outputs": [
    {
     "data": {
      "text/html": [
       "<div>\n",
       "<style scoped>\n",
       "    .dataframe tbody tr th:only-of-type {\n",
       "        vertical-align: middle;\n",
       "    }\n",
       "\n",
       "    .dataframe tbody tr th {\n",
       "        vertical-align: top;\n",
       "    }\n",
       "\n",
       "    .dataframe thead th {\n",
       "        text-align: right;\n",
       "    }\n",
       "</style>\n",
       "<table border=\"1\" class=\"dataframe\">\n",
       "  <thead>\n",
       "    <tr style=\"text-align: right;\">\n",
       "      <th></th>\n",
       "      <th>Model</th>\n",
       "      <th>Accuracy</th>\n",
       "      <th>Kappa</th>\n",
       "    </tr>\n",
       "  </thead>\n",
       "  <tbody>\n",
       "    <tr>\n",
       "      <th>0</th>\n",
       "      <td>Forest</td>\n",
       "      <td>0.985659</td>\n",
       "      <td>0.981006</td>\n",
       "    </tr>\n",
       "    <tr>\n",
       "      <th>1</th>\n",
       "      <td>KNN</td>\n",
       "      <td>0.991336</td>\n",
       "      <td>0.988529</td>\n",
       "    </tr>\n",
       "  </tbody>\n",
       "</table>\n",
       "</div>"
      ],
      "text/plain": [
       "    Model  Accuracy     Kappa\n",
       "0  Forest  0.985659  0.981006\n",
       "1     KNN  0.991336  0.988529"
      ]
     },
     "execution_count": 40,
     "metadata": {},
     "output_type": "execute_result"
    }
   ],
   "source": [
    "FLOOR_Performance = [['Forest', accuracy_score(y_test['FLOOR'], RFpredictions_floor),\n",
    "                     cohen_kappa_score(y_test['FLOOR'], RFpredictions_floor)],\n",
    "                [\"KNN\", accuracy_score(y_test['FLOOR'], KNNpredictions_floor),\n",
    "                cohen_kappa_score(y_test['FLOOR'], KNNpredictions_floor)]]\n",
    "                                \n",
    "df_FLOOR_perf = pd.DataFrame(FLOOR_Performance, columns = ['Model','Accuracy','Kappa'])\n",
    "df_FLOOR_perf"
   ]
  },
  {
   "cell_type": "markdown",
   "metadata": {},
   "source": [
    "I'm choosing KNN"
   ]
  },
  {
   "cell_type": "markdown",
   "metadata": {},
   "source": [
    "### <a class=\"anchor\" id=\"Latitude\"> 3.1.3. Latitude </a>"
   ]
  },
  {
   "cell_type": "markdown",
   "metadata": {},
   "source": [
    "### Random Forest (Regression)"
   ]
  },
  {
   "cell_type": "code",
   "execution_count": 41,
   "metadata": {},
   "outputs": [
    {
     "name": "stderr",
     "output_type": "stream",
     "text": [
      "/home/s/anaconda3/lib/python3.7/site-packages/ipykernel_launcher.py:1: SettingWithCopyWarning:\n",
      "\n",
      "\n",
      "A value is trying to be set on a copy of a slice from a DataFrame.\n",
      "Try using .loc[row_indexer,col_indexer] = value instead\n",
      "\n",
      "See the caveats in the documentation: http://pandas.pydata.org/pandas-docs/stable/indexing.html#indexing-view-versus-copy\n",
      "\n",
      "/home/s/anaconda3/lib/python3.7/site-packages/ipykernel_launcher.py:2: SettingWithCopyWarning:\n",
      "\n",
      "\n",
      "A value is trying to be set on a copy of a slice from a DataFrame.\n",
      "Try using .loc[row_indexer,col_indexer] = value instead\n",
      "\n",
      "See the caveats in the documentation: http://pandas.pydata.org/pandas-docs/stable/indexing.html#indexing-view-versus-copy\n",
      "\n",
      "/home/s/anaconda3/lib/python3.7/site-packages/sklearn/ensemble/forest.py:245: FutureWarning:\n",
      "\n",
      "The default value of n_estimators will change from 10 in version 0.20 to 100 in 0.22.\n",
      "\n"
     ]
    },
    {
     "name": "stdout",
     "output_type": "stream",
     "text": [
      "[0.9677072  0.9726942  0.97014024 0.96477835 0.96794434]\n",
      "R Squared: 0.973\n",
      "RMSE: 5.235\n",
      "MAE: 2.716\n"
     ]
    }
   ],
   "source": [
    "x_train['FLOOR'] = y_train['FLOOR']\n",
    "x_test['FLOOR'] = KNNpredictions_floor\n",
    "\n",
    "RF_LAT = RandomForestRegressor().fit(x_train,y_train['LATITUDE'])\n",
    "print(cross_val_score(RF_LAT, x_train, y_train['LATITUDE'], cv=5))\n",
    "\n",
    "#Predictions\n",
    "RFpredictions_latitude = RF_LAT.predict(x_test)\n",
    "\n",
    "#Performance Metrics (Errors)\n",
    "rmse = sqrt(mean_squared_error(y_test['LATITUDE'], RFpredictions_latitude))\n",
    "Rsquared = r2_score(y_test['LATITUDE'],RFpredictions_latitude)\n",
    "mae = mean_absolute_error(y_test['LATITUDE'],RFpredictions_latitude)\n",
    "print('R Squared: %.3f' % Rsquared)\n",
    "print('RMSE: %.3f' % rmse)\n",
    "print('MAE: %.3f' % mae)"
   ]
  },
  {
   "cell_type": "markdown",
   "metadata": {},
   "source": [
    "### KNN (Regression)"
   ]
  },
  {
   "cell_type": "code",
   "execution_count": 42,
   "metadata": {},
   "outputs": [
    {
     "name": "stderr",
     "output_type": "stream",
     "text": [
      "/home/s/anaconda3/lib/python3.7/site-packages/ipykernel_launcher.py:1: SettingWithCopyWarning:\n",
      "\n",
      "\n",
      "A value is trying to be set on a copy of a slice from a DataFrame.\n",
      "Try using .loc[row_indexer,col_indexer] = value instead\n",
      "\n",
      "See the caveats in the documentation: http://pandas.pydata.org/pandas-docs/stable/indexing.html#indexing-view-versus-copy\n",
      "\n",
      "/home/s/anaconda3/lib/python3.7/site-packages/ipykernel_launcher.py:2: SettingWithCopyWarning:\n",
      "\n",
      "\n",
      "A value is trying to be set on a copy of a slice from a DataFrame.\n",
      "Try using .loc[row_indexer,col_indexer] = value instead\n",
      "\n",
      "See the caveats in the documentation: http://pandas.pydata.org/pandas-docs/stable/indexing.html#indexing-view-versus-copy\n",
      "\n"
     ]
    },
    {
     "name": "stdout",
     "output_type": "stream",
     "text": [
      "[0.97318919 0.98365873 0.98156914 0.98439183 0.97893424]\n",
      "R Squared: 0.984\n",
      "RMSE: 4.111\n",
      "MAE: 1.422\n"
     ]
    }
   ],
   "source": [
    "x_train['FLOOR'] = y_train['FLOOR']\n",
    "x_test['FLOOR'] = KNNpredictions_floor\n",
    "\n",
    "KNN_LAT = KNeighborsRegressor(n_neighbors=1).fit(x_train, y_train['LATITUDE'])\n",
    "print(cross_val_score(KNN_LAT, x_train, y_train['LATITUDE'], cv=5))\n",
    "\n",
    "#Predictions\n",
    "KNNpredictions_latitude = KNN_LAT.predict(x_test)\n",
    "\n",
    "#Performance Metrics (Errors)\n",
    "rmse = sqrt(mean_squared_error(y_test['LATITUDE'], KNNpredictions_latitude))\n",
    "Rsquared = r2_score(y_test['LATITUDE'],KNNpredictions_latitude)\n",
    "mae = mean_absolute_error(y_test['LATITUDE'],KNNpredictions_latitude)\n",
    "print('R Squared: %.3f' % Rsquared)\n",
    "print('RMSE: %.3f' % rmse)\n",
    "print('MAE: %.3f' % mae)"
   ]
  },
  {
   "cell_type": "markdown",
   "metadata": {},
   "source": [
    "### <a class=\"anchor\" id=\"Latitude_Perf\"> 3.1.3.1 Latitude Model Performance </a>"
   ]
  },
  {
   "cell_type": "code",
   "execution_count": 43,
   "metadata": {},
   "outputs": [
    {
     "data": {
      "text/html": [
       "<div>\n",
       "<style scoped>\n",
       "    .dataframe tbody tr th:only-of-type {\n",
       "        vertical-align: middle;\n",
       "    }\n",
       "\n",
       "    .dataframe tbody tr th {\n",
       "        vertical-align: top;\n",
       "    }\n",
       "\n",
       "    .dataframe thead th {\n",
       "        text-align: right;\n",
       "    }\n",
       "</style>\n",
       "<table border=\"1\" class=\"dataframe\">\n",
       "  <thead>\n",
       "    <tr style=\"text-align: right;\">\n",
       "      <th></th>\n",
       "      <th>Model</th>\n",
       "      <th>RMSE</th>\n",
       "      <th>$R^2$</th>\n",
       "      <th>MAE</th>\n",
       "    </tr>\n",
       "  </thead>\n",
       "  <tbody>\n",
       "    <tr>\n",
       "      <th>0</th>\n",
       "      <td>Forest</td>\n",
       "      <td>5.235261</td>\n",
       "      <td>0.973421</td>\n",
       "      <td>2.715616</td>\n",
       "    </tr>\n",
       "    <tr>\n",
       "      <th>1</th>\n",
       "      <td>KNN</td>\n",
       "      <td>4.111143</td>\n",
       "      <td>0.983610</td>\n",
       "      <td>1.421666</td>\n",
       "    </tr>\n",
       "  </tbody>\n",
       "</table>\n",
       "</div>"
      ],
      "text/plain": [
       "    Model      RMSE     $R^2$       MAE\n",
       "0  Forest  5.235261  0.973421  2.715616\n",
       "1     KNN  4.111143  0.983610  1.421666"
      ]
     },
     "execution_count": 43,
     "metadata": {},
     "output_type": "execute_result"
    }
   ],
   "source": [
    "LAT_Performance = [['Forest', sqrt(mean_squared_error(y_test['LATITUDE'], RFpredictions_latitude)), \n",
    "                 r2_score(y_test['LATITUDE'],RFpredictions_latitude),\n",
    "                 mean_absolute_error(y_test['LATITUDE'],RFpredictions_latitude)],\n",
    "                [\"KNN\", sqrt(mean_squared_error(y_test['LATITUDE'], KNNpredictions_latitude)), \n",
    "                 r2_score(y_test['LATITUDE'],KNNpredictions_latitude),\n",
    "                 mean_absolute_error(y_test['LATITUDE'],KNNpredictions_latitude)]]\n",
    "                                \n",
    "df_LAT_perf = pd.DataFrame(LAT_Performance, columns = ['Model', 'RMSE','$R^2$','MAE'])\n",
    "df_LAT_perf"
   ]
  },
  {
   "cell_type": "markdown",
   "metadata": {},
   "source": [
    "I'm choosing KNN, again"
   ]
  },
  {
   "cell_type": "markdown",
   "metadata": {},
   "source": [
    "### <a class=\"anchor\" id=\"Longitude\"> 3.1.4. Longitude </a>"
   ]
  },
  {
   "cell_type": "markdown",
   "metadata": {},
   "source": [
    "### Random Forest (Regression)"
   ]
  },
  {
   "cell_type": "code",
   "execution_count": 44,
   "metadata": {},
   "outputs": [
    {
     "name": "stderr",
     "output_type": "stream",
     "text": [
      "/home/s/anaconda3/lib/python3.7/site-packages/ipykernel_launcher.py:1: SettingWithCopyWarning:\n",
      "\n",
      "\n",
      "A value is trying to be set on a copy of a slice from a DataFrame.\n",
      "Try using .loc[row_indexer,col_indexer] = value instead\n",
      "\n",
      "See the caveats in the documentation: http://pandas.pydata.org/pandas-docs/stable/indexing.html#indexing-view-versus-copy\n",
      "\n",
      "/home/s/anaconda3/lib/python3.7/site-packages/ipykernel_launcher.py:2: SettingWithCopyWarning:\n",
      "\n",
      "\n",
      "A value is trying to be set on a copy of a slice from a DataFrame.\n",
      "Try using .loc[row_indexer,col_indexer] = value instead\n",
      "\n",
      "See the caveats in the documentation: http://pandas.pydata.org/pandas-docs/stable/indexing.html#indexing-view-versus-copy\n",
      "\n",
      "/home/s/anaconda3/lib/python3.7/site-packages/sklearn/ensemble/forest.py:245: FutureWarning:\n",
      "\n",
      "The default value of n_estimators will change from 10 in version 0.20 to 100 in 0.22.\n",
      "\n"
     ]
    },
    {
     "name": "stdout",
     "output_type": "stream",
     "text": [
      "[0.99773409 0.99837249 0.99749204 0.99790124 0.99801786]\n",
      "R Squared: 0.995\n",
      "RMSE: 9.492\n",
      "MAE: 3.256\n"
     ]
    }
   ],
   "source": [
    "x_train['LATITUDE'] = y_train['LATITUDE']\n",
    "x_test['LATITUDE'] = KNNpredictions_latitude\n",
    "\n",
    "RF_LONG = RandomForestRegressor().fit(x_train,y_train['LONGITUDE'])\n",
    "print(cross_val_score(RF_LONG, x_train, y_train['LONGITUDE'], cv=5))\n",
    "\n",
    "#Predictions\n",
    "RFpredictions_longitude = RF_LONG.predict(x_test)\n",
    "\n",
    "#Performance Metrics (Errors)\n",
    "rmse = sqrt(mean_squared_error(y_test['LONGITUDE'], RFpredictions_longitude))\n",
    "Rsquared = r2_score(y_test['LONGITUDE'], RFpredictions_longitude)\n",
    "mae = mean_absolute_error(y_test['LONGITUDE'], RFpredictions_longitude)\n",
    "print('R Squared: %.3f' % Rsquared)\n",
    "print('RMSE: %.3f' % rmse)\n",
    "print('MAE: %.3f' % mae)"
   ]
  },
  {
   "cell_type": "code",
   "execution_count": 45,
   "metadata": {},
   "outputs": [
    {
     "name": "stderr",
     "output_type": "stream",
     "text": [
      "/home/s/anaconda3/lib/python3.7/site-packages/ipykernel_launcher.py:1: SettingWithCopyWarning:\n",
      "\n",
      "\n",
      "A value is trying to be set on a copy of a slice from a DataFrame.\n",
      "Try using .loc[row_indexer,col_indexer] = value instead\n",
      "\n",
      "See the caveats in the documentation: http://pandas.pydata.org/pandas-docs/stable/indexing.html#indexing-view-versus-copy\n",
      "\n",
      "/home/s/anaconda3/lib/python3.7/site-packages/ipykernel_launcher.py:2: SettingWithCopyWarning:\n",
      "\n",
      "\n",
      "A value is trying to be set on a copy of a slice from a DataFrame.\n",
      "Try using .loc[row_indexer,col_indexer] = value instead\n",
      "\n",
      "See the caveats in the documentation: http://pandas.pydata.org/pandas-docs/stable/indexing.html#indexing-view-versus-copy\n",
      "\n"
     ]
    },
    {
     "name": "stdout",
     "output_type": "stream",
     "text": [
      "[0.99824915 0.99799035 0.99811027 0.99758993 0.99775763]\n",
      "R Squared: 0.996\n",
      "RMSE: 9.106\n",
      "MAE: 1.980\n"
     ]
    }
   ],
   "source": [
    "x_train['LATITUDE'] = y_train['LATITUDE']\n",
    "x_test['LATITUDE'] = KNNpredictions_latitude\n",
    "\n",
    "KNN_LONG = KNeighborsRegressor(n_neighbors=1).fit(x_train,y_train['LONGITUDE'])\n",
    "print(cross_val_score(KNN_LONG, x_train, y_train['LONGITUDE'], cv=5))\n",
    "\n",
    "#Predictions\n",
    "KNNpredictions_longitude = KNN_LONG.predict(x_test)\n",
    "\n",
    "#Performance Metrics (Errors)\n",
    "rmse = sqrt(mean_squared_error(y_test['LONGITUDE'], KNNpredictions_longitude))\n",
    "Rsquared = r2_score(y_test['LONGITUDE'],KNNpredictions_longitude)\n",
    "mae = mean_absolute_error(y_test['LONGITUDE'],KNNpredictions_longitude)\n",
    "print('R Squared: %.3f' % Rsquared)\n",
    "print('RMSE: %.3f' % rmse)\n",
    "print('MAE: %.3f' % mae)"
   ]
  },
  {
   "cell_type": "markdown",
   "metadata": {},
   "source": [
    "### <a class=\"anchor\" id=\"Longitude_Perf\"> 3.1.4.1 Longitude Model Performance </a>"
   ]
  },
  {
   "cell_type": "code",
   "execution_count": 46,
   "metadata": {},
   "outputs": [
    {
     "data": {
      "text/html": [
       "<div>\n",
       "<style scoped>\n",
       "    .dataframe tbody tr th:only-of-type {\n",
       "        vertical-align: middle;\n",
       "    }\n",
       "\n",
       "    .dataframe tbody tr th {\n",
       "        vertical-align: top;\n",
       "    }\n",
       "\n",
       "    .dataframe thead th {\n",
       "        text-align: right;\n",
       "    }\n",
       "</style>\n",
       "<table border=\"1\" class=\"dataframe\">\n",
       "  <thead>\n",
       "    <tr style=\"text-align: right;\">\n",
       "      <th></th>\n",
       "      <th>Model</th>\n",
       "      <th>RMSE</th>\n",
       "      <th>$R^2$</th>\n",
       "      <th>MAE</th>\n",
       "    </tr>\n",
       "  </thead>\n",
       "  <tbody>\n",
       "    <tr>\n",
       "      <th>0</th>\n",
       "      <td>Forest</td>\n",
       "      <td>9.491588</td>\n",
       "      <td>0.995273</td>\n",
       "      <td>3.255916</td>\n",
       "    </tr>\n",
       "    <tr>\n",
       "      <th>1</th>\n",
       "      <td>KNN</td>\n",
       "      <td>9.105991</td>\n",
       "      <td>0.995649</td>\n",
       "      <td>1.979815</td>\n",
       "    </tr>\n",
       "  </tbody>\n",
       "</table>\n",
       "</div>"
      ],
      "text/plain": [
       "    Model      RMSE     $R^2$       MAE\n",
       "0  Forest  9.491588  0.995273  3.255916\n",
       "1     KNN  9.105991  0.995649  1.979815"
      ]
     },
     "execution_count": 46,
     "metadata": {},
     "output_type": "execute_result"
    }
   ],
   "source": [
    "LONG_Performance = [['Forest', sqrt(mean_squared_error(y_test['LONGITUDE'], RFpredictions_longitude)), \n",
    "                 r2_score(y_test['LONGITUDE'],RFpredictions_longitude),\n",
    "                 mean_absolute_error(y_test['LONGITUDE'],RFpredictions_longitude)],\n",
    "                [\"KNN\", sqrt(mean_squared_error(y_test['LONGITUDE'], KNNpredictions_longitude)), \n",
    "                 r2_score(y_test['LONGITUDE'],KNNpredictions_longitude),\n",
    "                 mean_absolute_error(y_test['LONGITUDE'],KNNpredictions_longitude)]]\n",
    "                                \n",
    "df_LONG_perf = pd.DataFrame(LONG_Performance, columns = ['Model', 'RMSE','$R^2$','MAE'])\n",
    "df_LONG_perf"
   ]
  }
 ],
 "metadata": {
  "kernelspec": {
   "display_name": "Python 3",
   "language": "python",
   "name": "python3"
  },
  "language_info": {
   "codemirror_mode": {
    "name": "ipython",
    "version": 3
   },
   "file_extension": ".py",
   "mimetype": "text/x-python",
   "name": "python",
   "nbconvert_exporter": "python",
   "pygments_lexer": "ipython3",
   "version": "3.7.3"
  }
 },
 "nbformat": 4,
 "nbformat_minor": 2
}
